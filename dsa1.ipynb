{
 "cells": [
  {
   "cell_type": "markdown",
   "id": "beba5418-41eb-4742-b3ad-bff5ea09bbd5",
   "metadata": {},
   "source": [
    "Q1. Given an array of integers nums and an integer target, return indices of the two numbers such that they add up to target.\n",
    "You may assume that each input would have exactly one solution, and you may not use the same element twice.\n",
    "You can return the answer in any order.\n",
    "Example: Input: nums = [2,7,11,15], target = 9 Output0 [0,1]\n",
    "Explanation: Because nums[0] + nums[1] == 9, we return [0, 1]\n",
    "\n",
    "Ans – first take empty dict,and to store the number and indices,\n",
    "Then iterate the array by using the loop,after that calculate the complement = target-num\n",
    "Then check the complement in the num_dict and add num to the dict with the index\n",
    "\n",
    "algo - by using hashtable we can check the complement of the current number or not.\n",
    "\n",
    "tc- O(n)\n",
    "sc-O(1)\n",
    "\n",
    "\n"
   ]
  },
  {
   "cell_type": "code",
   "execution_count": 3,
   "id": "dd68a6b7-e50e-455c-a4d6-efe66fbb04c0",
   "metadata": {},
   "outputs": [],
   "source": [
    "def twosum(nums,target):\n",
    "    dict={}\n",
    "    for i,num in enumerate(nums):\n",
    "        comp =target-num\n",
    "        if comp in dict:\n",
    "            return [dict[comp],i]\n",
    "        dict[num]=i\n",
    "    return []"
   ]
  },
  {
   "cell_type": "code",
   "execution_count": 4,
   "id": "2c6cdd3d-cbe7-420c-a55c-5d82471efc6f",
   "metadata": {},
   "outputs": [
    {
     "name": "stdout",
     "output_type": "stream",
     "text": [
      "[0, 1]\n"
     ]
    }
   ],
   "source": [
    "nums=[2,7,11,15]\n",
    "target = 9\n",
    "print(twosum(nums,target))"
   ]
  },
  {
   "cell_type": "markdown",
   "id": "4d165c18-1839-4cb5-a24d-d40e9ce71ea0",
   "metadata": {},
   "source": [
    "**Q2.** Given an integer array nums and an integer val, remove all occurrences of val in nums in-place. The order of the elements may be changed. Then return the number of elements in nums which are not equal to val.\n",
    "\n",
    "Consider the number of elements in nums which are not equal to val be k, to get accepted, you need to do the following things:\n",
    "\n",
    "- Change the array nums such that the first k elements of nums contain the elements which are not equal to val. The remaining elements of nums are not important as well as the size of nums.\n",
    "- Return k.\n",
    "\n",
    "Example :\n",
    "Input: nums = [3,2,2,3], val = 3\n",
    "Output: 2, nums = [2,2,_,_]\n",
    "\n",
    "Explanation:Your function should return k = 2, with the first two elements of nums being 2. It does not matter what you leave beyond the returned k (hence they are underscores)\n",
    "\n",
    "ANS - to slove this prblm use two pointer for removeing the elemnets in place and count the numbers of elements,to take varialbe k to 0 this varilabe to count the elements the itertae through the arry nums ,if the current elements is not equal to val num[k] + \n",
    "then return the value of k as the count of non val eleemnts \n",
    "\n",
    "timec-O(n)\n",
    "spacec-O(1)"
   ]
  },
  {
   "cell_type": "code",
   "execution_count": 16,
   "id": "ad25bdab-4692-4528-8e76-e5dd2290485f",
   "metadata": {},
   "outputs": [],
   "source": [
    "def removeElemnt(nums,val):\n",
    "    k=0\n",
    "    for num in nums:\n",
    "        if num != val:\n",
    "            nums[k] = num\n",
    "            k += 1\n",
    "\n",
    "    return k\n",
    "\n"
   ]
  },
  {
   "cell_type": "code",
   "execution_count": 17,
   "id": "d732f0fd-c8bb-4bf2-bab5-9e9fa7681bc5",
   "metadata": {},
   "outputs": [
    {
     "name": "stdout",
     "output_type": "stream",
     "text": [
      "2\n",
      "[2, 2, 2, 3]\n"
     ]
    }
   ],
   "source": [
    "nums=[3,2,2,3]\n",
    "val = 3\n",
    "count = removeElemnt(nums,val)\n",
    "print(count)\n",
    "print(nums)"
   ]
  },
  {
   "cell_type": "markdown",
   "id": "5e16788f-7bc4-4b2a-b368-f999c445240e",
   "metadata": {},
   "source": [
    "Given a sorted array of distinct integers and a target value, return the index if the target is found. If not, return the index where it would be if it were inserted in order.\n",
    "\n",
    "You must write an algorithm with O(log n) runtime complexity.\n",
    "\n",
    "**Example 1:**\n",
    "Input: nums = [1,3,5,6], target = 5\n",
    "\n",
    "Output: 2\n",
    "\n",
    "ans- set two pointer left ans right to startand end the array nums respect\n",
    "  while left < right  \n",
    "    mid  = left + (right - left )// 2 \n",
    "  if the target is equal to val num[mid],return mid,if the target is less than the value at nums[mid] upate right = mid\n",
    "if the target is greater than value nums[mid] left= mid + 1\n",
    "after the loop return left "
   ]
  },
  {
   "cell_type": "code",
   "execution_count": 20,
   "id": "d599992e-4766-44c9-bb86-bc014f3a9247",
   "metadata": {},
   "outputs": [],
   "source": [
    "def searchInsert(nums,target):\n",
    "    left,right = 0 ,len(nums)\n",
    "    while left < right:\n",
    "        mid =left + (right-left) // 2 \n",
    "        if nums[mid] == target:\n",
    "            return mid\n",
    "        elif nums[mid] < target:\n",
    "            left = mid + 1\n",
    "        else:\n",
    "            right = mid\n",
    "    return left\n",
    "\n",
    "nums = [1,3,5,6]\n",
    "target = 5"
   ]
  },
  {
   "cell_type": "code",
   "execution_count": 21,
   "id": "bf86f9db-354b-4bd7-9ad1-e573e76f5212",
   "metadata": {},
   "outputs": [
    {
     "name": "stdout",
     "output_type": "stream",
     "text": [
      "2\n"
     ]
    }
   ],
   "source": [
    "index =searchInsert(nums,target)\n",
    "print(index)"
   ]
  },
  {
   "cell_type": "markdown",
   "id": "7709cb3f-26df-4aba-9087-e5ceecaa33ae",
   "metadata": {},
   "source": [
    "You are given a large integer represented as an integer array digits, where each digits[i] is the ith digit of the integer. The digits are ordered from most significant to least significant in left-to-right order. The large integer does not contain any leading 0's.\n",
    "\n",
    "Increment the large integer by one and return the resulting array of digits.\n",
    "\n",
    "**Example 1:**\n",
    "Input: digits = [1,2,3]\n",
    "Output: [1,2,4]\n",
    "\n",
    "**Explanation:** The array represents the integer 123.\n",
    "\n",
    "Incrementing by one gives 123 + 1 = 124.\n",
    "Thus, the result should be [1,2,4].\n",
    "\n",
    "ans-first take ss is a varible to 1 then itertae over the digit array in reverse order the add the ss variable to the current digit\n",
    "if the sum exceed 9 set the digit 0 and upadte to ss to 1 oterwize sum and ss is 0 then return the upadete\n",
    "\n",
    "time - O(n)\n",
    "spacec - O(1)"
   ]
  },
  {
   "cell_type": "code",
   "execution_count": 25,
   "id": "1079f442-d813-440c-b508-29011d2b7d82",
   "metadata": {},
   "outputs": [],
   "source": [
    "def lastadd(digits):\n",
    "    ss = 1\n",
    "    for i in range(len(digits) - 1, -1, -1):\n",
    "        digits[i] += ss\n",
    "        if digits[i] >9:\n",
    "            digit[i] = 0\n",
    "            ss = 1\n",
    "        else:\n",
    "            ss = 0\n",
    "    if ss == 1:\n",
    "        digits.insert(0,1)\n",
    "    return digits"
   ]
  },
  {
   "cell_type": "code",
   "execution_count": 26,
   "id": "23a97b8f-d7a0-4c5f-a451-bba2750f3eb9",
   "metadata": {},
   "outputs": [
    {
     "name": "stdout",
     "output_type": "stream",
     "text": [
      "[1, 2, 4]\n"
     ]
    }
   ],
   "source": [
    "digits = [ 1,2,3] \n",
    "result = lastadd(digits)\n",
    "print(result)"
   ]
  },
  {
   "cell_type": "markdown",
   "id": "489e605f-ff6c-4e4d-8bb8-0070673084b3",
   "metadata": {},
   "source": [
    "Q6.Given an integer array nums, return true if any value appears at least twice in the array, and return false if every element is distinct.\n",
    "\n",
    "**Example 1:**\n",
    "Input: nums = [1,2,3,1]\n",
    "\n",
    "Output: true\n",
    "\n",
    "Ans- first  take a empty hashset then iterate each eleemnt in the array .if num is already in hash set theires is no duplicate value then  return true otherwise add num to hash set.after loop return false as duplicate "
   ]
  },
  {
   "cell_type": "code",
   "execution_count": 1,
   "id": "50f7902b-9bcf-4d40-8641-aec38dbf14cd",
   "metadata": {},
   "outputs": [],
   "source": [
    "def duplicate(nums):\n",
    "    num_set= set()\n",
    "    for num in nums:\n",
    "        if num in num_set:\n",
    "            return True \n",
    "        num_set.add(num)\n",
    "    return False\n"
   ]
  },
  {
   "cell_type": "code",
   "execution_count": 2,
   "id": "9d472621-e501-4b4f-a3c8-2eaea18630d2",
   "metadata": {},
   "outputs": [
    {
     "name": "stdout",
     "output_type": "stream",
     "text": [
      "True\n"
     ]
    }
   ],
   "source": [
    "nums=[1,2,3,1]\n",
    "result = duplicate(nums)\n",
    "print(result)"
   ]
  },
  {
   "cell_type": "markdown",
   "id": "544249c1-5505-47b5-9d4d-8a93c22e3513",
   "metadata": {},
   "source": [
    " Given an integer array nums, move all 0's to the end of it while maintaining the relative order of the nonzero elements.\n",
    "\n",
    "Note that you must do this in-place without making a copy of the array.\n",
    "\n",
    "**Example 1:**\n",
    "Input: nums = [0,1,0,3,12]\n",
    "Output: [1,3,12,0,0]\n",
    "\n",
    "Ans - to move all zero to the end we can use two pointer apporach.left and right both pointing to start of array ,\n",
    "while the right pointer is with in bounds    a> if the elements at nums[right] is not zero swap the elements num[left] and nums[right] and increment both left and right\n",
    " b> if the element at nums[rights] is zero increment only the right pointer,then loop all non xxero element would have been moved to the left side of array\n",
    " \n",
    "tc- O(n)\n",
    "sc-O(n)"
   ]
  },
  {
   "cell_type": "code",
   "execution_count": 2,
   "id": "1bb64d5b-a26d-4298-b247-fb942a189cc4",
   "metadata": {},
   "outputs": [],
   "source": [
    "def movezeroright(nums):\n",
    "    left, right = 0, 0\n",
    "    while right< len(nums):\n",
    "        if nums[right] != 0:\n",
    "            nums[left], nums[right] = nums[right], nums[left]\n",
    "            left += 1\n",
    "        right += 1\n",
    "    for i in range(left, len(nums)):\n",
    "        nums[i] = 0"
   ]
  },
  {
   "cell_type": "code",
   "execution_count": 3,
   "id": "4d7140ae-e533-4079-aecb-db279ae839a0",
   "metadata": {},
   "outputs": [
    {
     "name": "stdout",
     "output_type": "stream",
     "text": [
      "[1, 3, 12, 0, 0]\n"
     ]
    }
   ],
   "source": [
    "nums = [0,1,0,3,12]\n",
    "movezeroright(nums)\n",
    "print(nums)"
   ]
  },
  {
   "cell_type": "markdown",
   "id": "707369ce-05d8-4dbe-a950-4bcd41e602f9",
   "metadata": {},
   "source": [
    "You have a set of integers s, which originally contains all the numbers from 1 to n. Unfortunately, due to some error, one of the numbers in s got duplicated to another number in the set, which results in repetition of one number and loss of another number.\n",
    "\n",
    "You are given an integer array nums representing the data status of this set after the error.\n",
    "\n",
    "Find the number that occurs twice and the number that is missing and return them in the form of an array.\n",
    "\n",
    "**Example 1:**\n",
    "Input: nums = [1,2,2,4]\n",
    "Output: [2,3]\n",
    "\n",
    "ans - to find the number we can use the cycclic sort.and also use for counting and making elements \n",
    "first cerete a frequency array count size  n+1 to store the count of each number form 1 to n,after that iterate each element num in the array then increments the counts 'num' in the 'count' array  by 1\n",
    "initialize varilabe duplicate and mising to 0\n",
    "iterate form 1 to n \n",
    "  a> if teh count of index is 2 the duplicate the couurent indes \n",
    "  b> if count of curent index is 0 then missing to the current index\n",
    "  \n",
    "tc - O(n)\n",
    "sc- O(1)"
   ]
  },
  {
   "cell_type": "code",
   "execution_count": 16,
   "id": "f944221b-8551-43aa-984c-196aed3cba00",
   "metadata": {},
   "outputs": [],
   "source": [
    "def findErrorNum(nums):\n",
    "    n =len(nums)\n",
    "    count = [0] * (n + 1)\n",
    "    \n",
    "    for num in nums:\n",
    "        count[num] += 1\n",
    "    duplicate = missing = 0 \n",
    "    for i in range(1 , n+1):\n",
    "        if count[i] == 2:\n",
    "            duplicate = i\n",
    "        elif count[i] ==0:\n",
    "            missing = i\n",
    "    return [duplicate,missing]"
   ]
  },
  {
   "cell_type": "code",
   "execution_count": 17,
   "id": "ddbb72b6-7aa3-4ab5-a833-d1bb5fc6d6d0",
   "metadata": {},
   "outputs": [
    {
     "name": "stdout",
     "output_type": "stream",
     "text": [
      "[2, 3]\n"
     ]
    }
   ],
   "source": [
    "nums=[1,2,2,4]\n",
    "result=findErrorNum(nums)\n",
    "print(result)"
   ]
  }
 ],
 "metadata": {
  "kernelspec": {
   "display_name": "Python 3 (ipykernel)",
   "language": "python",
   "name": "python3"
  },
  "language_info": {
   "codemirror_mode": {
    "name": "ipython",
    "version": 3
   },
   "file_extension": ".py",
   "mimetype": "text/x-python",
   "name": "python",
   "nbconvert_exporter": "python",
   "pygments_lexer": "ipython3",
   "version": "3.10.6"
  }
 },
 "nbformat": 4,
 "nbformat_minor": 5
}
