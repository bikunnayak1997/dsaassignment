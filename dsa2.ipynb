{
 "cells": [
  {
   "cell_type": "markdown",
   "id": "9dbd0ed3-873f-46b5-97be-69a80d571cb3",
   "metadata": {},
   "source": [
    "Given an integer array nums of 2n integers, group these integers into n pairs (a1, b1), (a2, b2),..., (an, bn) such that the sum of min(ai, bi) for all i is maximized. Return the maximized sum.\n",
    "\n",
    "**Example 1:**\n",
    "Input: nums = [1,4,3,2]\n",
    "Output: 4\n",
    "\n",
    "**Explanation:** All possible pairings (ignoring the ordering of elements) are:\n",
    "\n",
    "1. (1, 4), (2, 3) -> min(1, 4) + min(2, 3) = 1 + 2 = 3\n",
    "2. (1, 3), (2, 4) -> min(1, 3) + min(2, 4) = 1 + 2 = 3\n",
    "3. (1, 2), (3, 4) -> min(1, 2) + min(3, 4) = 1 + 3 = 4\n",
    "So the maximum possible sum is 4\n",
    "\n",
    "ANS first sort the given array nums in ascending order,initialise a variable sum to 0 to store the maximum sum,after that over the sorted array with step 2 form index 0 and in each value can add by current insex to sum.after iterating through the entier array ,return the value of sum\n",
    "time comp - O(nlogn)\n",
    "space comp - O(1)"
   ]
  },
  {
   "cell_type": "code",
   "execution_count": 5,
   "id": "af329153-0b3a-4539-b640-d40303817723",
   "metadata": {},
   "outputs": [],
   "source": [
    "def sumofarray(nums):\n",
    "    nums.sort()\n",
    "    sum = 0\n",
    "    for i in range(0,len(nums),2):\n",
    "        sum += nums[i]\n",
    "    return sum\n",
    "nums=[1,4,3,2]"
   ]
  },
  {
   "cell_type": "code",
   "execution_count": 6,
   "id": "09192b2c-30a4-4fa8-a51e-a3dc7628a644",
   "metadata": {},
   "outputs": [
    {
     "name": "stdout",
     "output_type": "stream",
     "text": [
      "4\n"
     ]
    }
   ],
   "source": [
    "print(sumofarray(nums))"
   ]
  },
  {
   "cell_type": "markdown",
   "id": "adc78e20-d6c9-44f8-97bd-a8eef03134c2",
   "metadata": {},
   "source": [
    "Alice has n candies, where the ith candy is of type candyType[i]. Alice noticed that she started to gain weight, so she visited a doctor. \n",
    "\n",
    "The doctor advised Alice to only eat n / 2 of the candies she has (n is always even). Alice likes her candies very much, and she wants to eat the maximum number of different types of candies while still following the doctor's advice. \n",
    "\n",
    "Given the integer array candyType of length n, return the maximum number of different types of candies she can eat if she only eats n / 2 of them.\n",
    "\n",
    "Example 1:\n",
    "Input: candyType = [1,1,2,2,3,3]\n",
    "Output: 3\n",
    "\n",
    "Explanation: Alice can only eat 6 / 2 = 3 candies. Since there are only 3 types, she can eat one of each type.\n",
    "\n",
    "ans- the maximum number of candies alice which is n /2,create a set called uniquecand then iterate over the candytype array \n",
    "   a> add each candy type to the uniquecand \n",
    "    b>if size of uniquecand becomes equal to maximum number of candies the breakthe loop after that return\n",
    "tc-O(n)"
   ]
  },
  {
   "cell_type": "code",
   "execution_count": 7,
   "id": "eaa335ae-e31b-4c18-8328-3473ab47f504",
   "metadata": {},
   "outputs": [],
   "source": [
    "def maxcandie(candyType):\n",
    "    max_cand = len(candyType) // 2\n",
    "    uniquecand =set()\n",
    "    for i in candyType :\n",
    "        uniquecand.add(i)\n",
    "        if len(uniquecand) == max_cand:\n",
    "            break\n",
    "    return len(uniquecand)"
   ]
  },
  {
   "cell_type": "code",
   "execution_count": 9,
   "id": "dd2f2868-e66b-4047-b6bd-25d79e67ee72",
   "metadata": {},
   "outputs": [
    {
     "name": "stdout",
     "output_type": "stream",
     "text": [
      "3\n"
     ]
    }
   ],
   "source": [
    "candyType = [1,1,2,2,3,3]\n",
    "print(maxcandie(candyType))"
   ]
  },
  {
   "cell_type": "markdown",
   "id": "9373d061-7978-4887-9c32-c66851c487c8",
   "metadata": {},
   "source": [
    "We define a harmonious array as an array where the difference between its maximum value\n",
    "and its minimum value is exactly 1.\n",
    "\n",
    "Given an integer array nums, return the length of its longest harmonious subsequence\n",
    "among all its possible subsequences.\n",
    "\n",
    "A subsequence of an array is a sequence that can be derived from the array by deleting some or no elements without changing the order of the remaining elements.\n",
    "\n",
    "Example 1:\n",
    "Input: nums = [1,3,2,2,5,2,3,7]\n",
    "Output: 5\n",
    "\n",
    "Explanation: The longest harmonious subsequence is [3,2,2,2,3].\n",
    "\n",
    "ans -to solve this first create a hashtable called freq to sotre the value,then for iterate the nums and upadte the freq of each number ,and intitialze the max length to 0,if cueernt key +1 exits the freq hastable then calculate the sum of freq of cueent key +1,if the sum id greather than cureent max length ,upadate the max length ,retun max length "
   ]
  },
  {
   "cell_type": "code",
   "execution_count": 12,
   "id": "6fd114d1-6300-4f0e-a988-f6ffdd85dd11",
   "metadata": {},
   "outputs": [],
   "source": [
    "def lhs(nums):\n",
    "    freq = {}\n",
    "    for num in nums :\n",
    "        freq[num] = freq.get(num,0)+1\n",
    "        \n",
    "    max_length = 0\n",
    "    for key in freq.keys():\n",
    "        if key + 1 in freq:\n",
    "            current_length =freq[key] + freq[key+1]\n",
    "            max_length = max(max_length , current_length)\n",
    "    \n",
    "    return max_length"
   ]
  },
  {
   "cell_type": "code",
   "execution_count": 13,
   "id": "60053ec7-c168-491c-b86b-c8c88db3d596",
   "metadata": {},
   "outputs": [
    {
     "name": "stdout",
     "output_type": "stream",
     "text": [
      "5\n"
     ]
    }
   ],
   "source": [
    "nums = [1,3,2,2,5,2,3,7]\n",
    "print(lhs(nums))"
   ]
  },
  {
   "cell_type": "markdown",
   "id": "972ff209-18c4-43e9-b176-9c2fadee62cb",
   "metadata": {},
   "source": [
    "Given an integer array nums, find three numbers whose product is maximum and return the maximum product.\n",
    "\n",
    "Example 1:\n",
    "Input: nums = [1,2,3]\n",
    "Output: 6\n",
    "\n",
    "ans - first sort the array and ascending the array then calculate the product of last three elements in sorted order store the value a variable name  then retun the maximum between max value and alternative max value\n",
    "tc-O(n)\n",
    "sc-o(n)"
   ]
  },
  {
   "cell_type": "code",
   "execution_count": 21,
   "id": "e4de16b3-08e9-48b1-a874-738638d16b1d",
   "metadata": {},
   "outputs": [],
   "source": [
    "def product(nums):\n",
    "    nums.sort()\n",
    "    max_prod =nums[0] * nums[1] * nums[-1]\n",
    "    alt_max=nums[-1] * nums[-2] * nums[-3]\n",
    "    return max(max_prod,alt_max)"
   ]
  },
  {
   "cell_type": "code",
   "execution_count": 22,
   "id": "90552756-4140-42bc-915e-c987a228853a",
   "metadata": {},
   "outputs": [
    {
     "name": "stdout",
     "output_type": "stream",
     "text": [
      "6\n"
     ]
    }
   ],
   "source": [
    "nums=[1,2,3]\n",
    "print(product(nums))"
   ]
  },
  {
   "cell_type": "markdown",
   "id": "9fb4e3e6-c81d-4ebb-a3eb-5643fb1de88d",
   "metadata": {},
   "source": [
    "Given an array of integers nums which is sorted in ascending order, and an integer target,\n",
    "write a function to search target in nums. If target exists, then return its index. Otherwise,\n",
    "return -1.\n",
    "\n",
    "You must write an algorithm with O(log n) runtime complexity.\n",
    "\n",
    "Input: nums = [-1,0,3,5,9,12], target = 9\n",
    "Output: 4\n",
    "\n",
    "Explanation: 9 exists in nums and its index is 4\n",
    "\n",
    "ans- we use for two pointer left and right , while left is less than equal to right \n",
    "  then calculate mid index = left + (right - left)//2\n",
    "  if num[mid] is equal to target return mid\n",
    "  if num[mid] is greater than the target set right to mid - 1\n",
    "  if nums[mid] is less than target set left to mid +1 \n",
    " if target not found then return -1"
   ]
  },
  {
   "cell_type": "code",
   "execution_count": 24,
   "id": "0fd08224-a243-4ae0-8260-9923518373ef",
   "metadata": {},
   "outputs": [],
   "source": [
    "def ser(nums,target):\n",
    "    left ,right = 0 ,len(nums) - 1\n",
    "    while left <= right:\n",
    "        mid = left + (right -left)//2\n",
    "         \n",
    "        if nums[mid] == target:\n",
    "            return mid\n",
    "        elif nums[mid] < target:\n",
    "            left = mid + 1\n",
    "        else:\n",
    "            right = mid - 1\n",
    "    return -1\n",
    "\n",
    "nums=[-1,0,3,5,9,12]\n",
    "target = 9"
   ]
  },
  {
   "cell_type": "code",
   "execution_count": 25,
   "id": "25e30b3c-68ad-4224-960b-cfa5d41ef145",
   "metadata": {},
   "outputs": [
    {
     "name": "stdout",
     "output_type": "stream",
     "text": [
      "4\n"
     ]
    }
   ],
   "source": [
    "print(ser(nums,target))"
   ]
  },
  {
   "cell_type": "code",
   "execution_count": null,
   "id": "1dc66efb-b556-4415-8cd1-3a9f00f0bc31",
   "metadata": {},
   "outputs": [],
   "source": [
    "An array is monotonic if it is either monotone increasing or monotone decreasing.\n",
    "\n",
    "An array nums is monotone increasing if for all i <= j, nums[i] <= nums[j]. An array nums is\n",
    "monotone decreasing if for all i <= j, nums[i] >= nums[j].\n",
    "\n",
    "Given an integer array nums, return true if the given array is monotonic, or false otherwise.\n",
    "\n",
    "Example 1:\n",
    "Input: nums = [1,2,2,3]\n",
    "Output: true\n",
    "\n",
    "ans- initialize two boolen varialbe is isincreasing and isdecreasing,then iterate the nums ,if the current eleement nums[i] is greater than previous nums[i-1]\n",
    "   set isdereasing to false \n",
    "    if the current element nums[i] is less than the preivous nums[i-1] set\n",
    "    isinceraing to false \n",
    "    if both isincreasing and isdereasing are false ,return false "
   ]
  },
  {
   "cell_type": "code",
   "execution_count": 33,
   "id": "bc202881-fe69-4ddd-b19b-8a5f1eb60f32",
   "metadata": {},
   "outputs": [],
   "source": [
    "def isMonotonic(nums):\n",
    "    isIncreasing = True\n",
    "    isDereasing = True\n",
    "    \n",
    "    for i in range(1,len(nums)):\n",
    "        if nums[i] > nums[i - 1]:\n",
    "            isDereasing =False\n",
    "        if nums[i] < nums[i - 1]:\n",
    "            isIncreasing = False \n",
    "        if not isIncreasing and not isDereasing:\n",
    "            return False \n",
    "    return True\n",
    "\n",
    "\n",
    "nums=[1,2,2,3]"
   ]
  },
  {
   "cell_type": "code",
   "execution_count": 34,
   "id": "a3cb4859-7a74-4ce9-8cf9-a15d4a6fca6e",
   "metadata": {},
   "outputs": [
    {
     "name": "stdout",
     "output_type": "stream",
     "text": [
      "True\n"
     ]
    }
   ],
   "source": [
    "print(isMonotonic(nums))"
   ]
  },
  {
   "cell_type": "markdown",
   "id": "c289b209-3ca6-40ee-b746-7585bea8f043",
   "metadata": {},
   "source": [
    "You are given an integer array nums and an integer k.\n",
    "\n",
    "In one operation, you can choose any index i where 0 <= i < nums.length and change nums[i] to nums[i] + x where x is an integer from the range [-k, k]. You can apply this operation at most once for each index i.\n",
    "\n",
    "The score of nums is the difference between the maximum and minimum elements in nums.\n",
    "\n",
    "Return the minimum score of nums after applying the mentioned operation at most once for each index in it.\n",
    "\n",
    "Example 1:\n",
    "Input: nums = [1], k = 0\n",
    "Output: 0\n",
    "\n",
    "Explanation: The score is max(nums) - min(nums) = 1 - 1 = 0.\n",
    "\n",
    "\n",
    "ANS- to minimize the diffenecne btn max and min we should try to make the maximum  is small and min is large \n",
    "we can achive this by adding the value form range [-k, k]\n",
    "min = nums[i]+k\n",
    "max = nums[i] -k"
   ]
  },
  {
   "cell_type": "code",
   "execution_count": 36,
   "id": "667f5053-d976-4365-aa02-cc96d2cf0f8f",
   "metadata": {},
   "outputs": [],
   "source": [
    "def minmumScore(nums,k):\n",
    "    min_val =float('inf')\n",
    "    max_val =float('-inf')\n",
    "    \n",
    "    for num in nums:\n",
    "           min_val =min(min_val,num +k)\n",
    "           max_val = max(max_val, num -k)\n",
    "    return max_val - min_val\n",
    "\n",
    "nums=[1]\n",
    "k=0"
   ]
  },
  {
   "cell_type": "code",
   "execution_count": 37,
   "id": "4ff4e25b-a795-4bf9-a634-732309068b1f",
   "metadata": {},
   "outputs": [
    {
     "name": "stdout",
     "output_type": "stream",
     "text": [
      "0\n"
     ]
    }
   ],
   "source": [
    "print(minmumScore(nums,k))"
   ]
  }
 ],
 "metadata": {
  "kernelspec": {
   "display_name": "Python 3 (ipykernel)",
   "language": "python",
   "name": "python3"
  },
  "language_info": {
   "codemirror_mode": {
    "name": "ipython",
    "version": 3
   },
   "file_extension": ".py",
   "mimetype": "text/x-python",
   "name": "python",
   "nbconvert_exporter": "python",
   "pygments_lexer": "ipython3",
   "version": "3.10.6"
  }
 },
 "nbformat": 4,
 "nbformat_minor": 5
}
