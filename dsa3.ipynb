{
 "cells": [
  {
   "cell_type": "markdown",
   "id": "a996872a-686d-4d2f-9752-41bfa488d8a4",
   "metadata": {},
   "source": [
    "Given an integer array nums of length n and an integer target, find three integers\n",
    "in nums such that the sum is closest to the target.\n",
    "Return the sum of the three integers.\n",
    "\n",
    "You may assume that each input would have exactly one solution.\n",
    "\n",
    "Example 1:\n",
    "Input: nums = [-1,2,1,-4], target = 1\n",
    "Output: 2\n",
    "\n",
    "Explanation: The sum that is closest to the target is 2. (-1 + 2 + 1 = 2).\n",
    "\n",
    "\n",
    "ans = to slove this problem we use the two pointrt apporach .then sorting the array nums in ascending order.intitalize a varilabe closestsum to store the sum .for the current element index i set two piontrt left and right initally pointing the eleement , while left is less than right than right than calculate the sum of three number num[i] + num[left] + num[right] and than compare with the target ,if sum is greater than the target ,decremeent the right ,smaller than target than increment the left pointer to consider a larger eleement ,if equal sum than the target ,return the target sum "
   ]
  },
  {
   "cell_type": "code",
   "execution_count": 5,
   "id": "de2891f5-646b-4f0c-83c7-6e47eaf2c519",
   "metadata": {},
   "outputs": [],
   "source": [
    "def threeSumClosest(nums,target):\n",
    "    nums.sort()\n",
    "    n = len(nums)\n",
    "    closestSum =float('inf')\n",
    "    \n",
    "    for i in range(n- 2):\n",
    "        left = i+1\n",
    "        right = n-1\n",
    "        \n",
    "        while left < right:\n",
    "            currentSum = nums[i] + nums[left] + nums[right]\n",
    "            if currentSum == target:\n",
    "                return currentSum\n",
    "            if abs(currentSum - target) < abs (closestSum - target):\n",
    "                closestSum = currentSum\n",
    "                \n",
    "            if currentSum>target:\n",
    "                right -= 1\n",
    "            else:\n",
    "                left += 1\n",
    "                \n",
    "                \n",
    "    return closestSum"
   ]
  },
  {
   "cell_type": "code",
   "execution_count": 6,
   "id": "0a7e12d4-62ab-406d-b89f-5abf816b4db4",
   "metadata": {},
   "outputs": [
    {
     "name": "stdout",
     "output_type": "stream",
     "text": [
      "2\n"
     ]
    }
   ],
   "source": [
    "nums = [-1, 2, 1, -4]\n",
    "target = 1\n",
    "result = threeSumClosest(nums,target)\n",
    "print(result)"
   ]
  },
  {
   "cell_type": "markdown",
   "id": "0437657a-d7ce-4816-9797-d7673d2f9c24",
   "metadata": {},
   "source": [
    "Given an array nums of n integers, return an array of all the unique quadruplets\n",
    "[nums[a], nums[b], nums[c], nums[d]] such that:\n",
    "           ● 0 <= a, b, c, d < n\n",
    "           ● a, b, c, and d are distinct.\n",
    "           ● nums[a] + nums[b] + nums[c] + nums[d] == target\n",
    "\n",
    "You may return the answer in any order.\n",
    "\n",
    "Example 1:\n",
    "Input: nums = [1,0,-1,0,-2,2], target = 0\n",
    "Output: [[-2,-1,1,2],[-2,0,0,2],[-1,0,0,1]]\n",
    "\n",
    "Ans-sort the array in ascending order than initalize the empty list result to store the unique quadruplets.after that iterate the array using two pointer i and j .for each pair of element num[i] and num[j] ,set two pointer left and right.\n",
    "while left is less than right than sum of the four eleemnt nums[i]+nums[j]+nums[left]+nums[right] and compare it with the target.\n",
    "if the current sum is equal to the target,add(nums[i],nums[j],nums[left],nums[right]) to s=result.\n",
    "  if sum is equal to target than drecrement the right \n",
    "  if sum is smaller than the target than increment the left\n",
    "  after the loop end return the result "
   ]
  },
  {
   "cell_type": "code",
   "execution_count": null,
   "id": "c8fbae73-adc5-49c0-9124-71883dd4340a",
   "metadata": {},
   "outputs": [],
   "source": [
    "def fourSum(nums, target):\n",
    "    nums.sort()  \n",
    "    n = len(nums)\n",
    "    result = []\n",
    "\n",
    "    for i in range(n - 3):\n",
    "        if i > 0 and nums[i] == nums[i - 1]:\n",
    "            continue  \n",
    "\n",
    "        for j in range(i + 1, n - 2):\n",
    "            if j > i + 1 and nums[j] == nums[j - 1]:\n",
    "                continue  \n",
    "\n",
    "            left = j + 1\n",
    "            right = n - 1\n",
    "\n",
    "            while left < right:\n",
    "                currentSum = nums[i] + nums[j] + nums[left] + nums[right]\n",
    "                if currentSum == target:\n",
    "                    result.append([nums[i], nums[j], nums[left], nums[right]])\n",
    "\n",
    "                    while left < right and nums[left] == nums[left + 1]:\n",
    "                        left += 1\n",
    "                    while left < right and nums[right] == nums[right - 1]:\n",
    "                        right -= 1\n",
    "\n",
    "                    left += 1\n",
    "                    right -= 1\n",
    "                elif currentSum > target:\n",
    "                    right -= 1\n",
    "                else:\n",
    "                    left += 1\n",
    "\n",
    "    return result\n"
   ]
  },
  {
   "cell_type": "markdown",
   "id": "6378d04e-c33d-4e65-afb2-69d3abf71ad5",
   "metadata": {},
   "source": [
    " A permutation of an array of integers is an arrangement of its members into a\n",
    "sequence or linear order.\n",
    "\n",
    "For example, for arr = [1,2,3], the following are all the permutations of arr:\n",
    "[1,2,3], [1,3,2], [2, 1, 3], [2, 3, 1], [3,1,2], [3,2,1].\n",
    "\n",
    "The next permutation of an array of integers is the next lexicographically greater\n",
    "permutation of its integer. More formally, if all the permutations of the array are\n",
    "sorted in one container according to their lexicographical order, then the next\n",
    "permutation of that array is the permutation that follows it in the sorted container.\n",
    "\n",
    "If such an arrangement is not possible, the array must be rearranged as the\n",
    "lowest possible order (i.e., sorted in ascending order).\n",
    "\n",
    "● For example, the next permutation of arr = [1,2,3] is [1,3,2].\n",
    "● Similarly, the next permutation of arr = [2,3,1] is [3,1,2].\n",
    "● While the next permutation of arr = [3,2,1] is [1,2,3] because [3,2,1] does not\n",
    "have a lexicographical larger rearrangement.\n",
    "\n",
    "Given an array of integers nums, find the next permutation of nums.\n",
    "The replacement must be in place and use only constant extra memory.\n",
    "\n",
    "**Example 1:**\n",
    "Input: nums = [1,2,3]\n",
    "Output: [1,3,2]\n",
    "\n",
    "\n",
    "ans-start form the rightmost element of the array and find the first pair of adjacent elemeent nums[i] and nums[i+1] such that nums[i] < nums [i+1]\n",
    "if pair is found then is a potential next permutaion ,if not found menas given aary is alredy descending order .if pair is found in setp 1 find the next greter eleement to replace nums[i] iterate from the right side of the array again find the element nums[j] such that nums[j] > nums[i] .after that swap nums[i] and nums[j].reverse the subarray starting form index i+1 till end the array "
   ]
  },
  {
   "cell_type": "code",
   "execution_count": 1,
   "id": "b6609184-c3a3-46e0-af84-dfccb4a6792e",
   "metadata": {},
   "outputs": [],
   "source": [
    "def nextPermutation(nums):\n",
    "    n = len(nums)\n",
    "    i = n - 2\n",
    "\n",
    "    \n",
    "    while i >= 0 and nums[i] >= nums[i + 1]:\n",
    "        i -= 1\n",
    "\n",
    "    if i >= 0:\n",
    "        j = n - 1\n",
    "\n",
    "\n",
    "        while j >= 0 and nums[j] <= nums[i]:\n",
    "            j -= 1\n",
    "\n",
    "\n",
    "        nums[i], nums[j] = nums[j], nums[i]\n",
    "\n",
    "    left = i + 1\n",
    "    right = n - 1\n",
    "    while left < right:\n",
    "        nums[left], nums[right] = nums[right], nums[left]\n",
    "        left += 1\n",
    "        right -= 1\n"
   ]
  },
  {
   "cell_type": "code",
   "execution_count": 2,
   "id": "ee0f8506-410c-498d-ab6f-81f6f4e87fcc",
   "metadata": {},
   "outputs": [
    {
     "name": "stdout",
     "output_type": "stream",
     "text": [
      "[1, 3, 2]\n"
     ]
    }
   ],
   "source": [
    "nums = [1, 2, 3]\n",
    "nextPermutation(nums)\n",
    "print(nums) "
   ]
  },
  {
   "cell_type": "raw",
   "id": "5e9f0874-514c-429d-9ddb-a282f88367e7",
   "metadata": {},
   "source": [
    "Given a sorted array of distinct integers and a target value, return the index if the\n",
    "target is found. If not, return the index where it would be if it were inserted in\n",
    "order.\n",
    "\n",
    "You must write an algorithm with O(log n) runtime complexity.\n",
    "\n",
    "Example 1:\n",
    "Input: nums = [1,3,5,6], target = 5\n",
    "Output: 2\n",
    "\n",
    "ans - first take two pointer left and right pointing to start and end,\n",
    "while left <= right \n",
    "calculte mid = (left + right)//2\n",
    "if mid = target ,retun mid \n",
    "if mid > = target upated right to mid - 1\n",
    "if mis <= target left,left to mid +1\n",
    "if target is not found the array left pointer will point to the index,target would be inserted ,return left "
   ]
  },
  {
   "cell_type": "code",
   "execution_count": 3,
   "id": "d1b1691c-0cc1-4858-9ace-f6e68e482b5f",
   "metadata": {},
   "outputs": [],
   "source": [
    "def searchInsert(nums, target):\n",
    "    left = 0\n",
    "    right = len(nums) - 1\n",
    "\n",
    "    while left <= right:\n",
    "        mid = (left + right) // 2\n",
    "        if nums[mid] == target:\n",
    "            return mid\n",
    "        elif nums[mid] < target:\n",
    "            left = mid + 1\n",
    "        else:\n",
    "            right = mid - 1\n",
    "\n",
    "    return left\n",
    "nums= [1,3,5,6]\n",
    "target = 5\n"
   ]
  },
  {
   "cell_type": "code",
   "execution_count": 4,
   "id": "ff8cfae8-815a-4da4-ba16-8d8fe559cd43",
   "metadata": {},
   "outputs": [
    {
     "name": "stdout",
     "output_type": "stream",
     "text": [
      "2\n"
     ]
    }
   ],
   "source": [
    "index = searchInsert(nums, target)\n",
    "print(index)"
   ]
  },
  {
   "cell_type": "markdown",
   "id": "f67abc03-468a-4ef3-80b2-4641c637926d",
   "metadata": {},
   "source": [
    "You are given a large integer represented as an integer array digits, where each\n",
    "digits[i] is the ith digit of the integer. The digits are ordered from most significant\n",
    "to least significant in left-to-right order. The large integer does not contain any\n",
    "leading 0's.\n",
    "\n",
    "Increment the large integer by one and return the resulting array of digits.\n",
    "\n",
    "**Example 1:**\n",
    "Input: digits = [1,2,3]\n",
    "Output: [1,2,4]\n",
    "\n",
    "**Explanation:** The array represents the integer 123.\n",
    "Incrementing by one gives 123 + 1 = 124.\n",
    "Thus, the result should be [1,2,4].\n",
    "\n",
    "ans - intialize a varilabe take it 1 ,then iterate the rightmost array to the leftmost array,and the varriable to digit\n",
    "if the sum is less than 10,update the digit and set the varibale to 0,if sum is equal to 10 update the digit to 0 and keep the carry as 1,repeat this process for each digit,moving from right to left,after the loop ends,check the variable is still 1,if it is added to the left of the array,append 1 to the beginning to the array ,retun the upadtes array of digit"
   ]
  },
  {
   "cell_type": "code",
   "execution_count": 10,
   "id": "26882732-c368-44cb-9cad-90cf74d12373",
   "metadata": {},
   "outputs": [],
   "source": [
    "def addone(digits):\n",
    "    ss = 1\n",
    "    n = len(digits)\n",
    "    \n",
    "    for i in range(n-1, -1, -1):\n",
    "        digits[i] += ss\n",
    "        if digits[i] < 10:\n",
    "            ss = 0\n",
    "            break \n",
    "        else :\n",
    "            digits[i] = 0\n",
    "    if ss ==1:\n",
    "        digits.insert(0,1)\n",
    "        \n",
    "    return digits\n",
    "\n",
    "digits = [1, 2, 3]\n",
    "\n"
   ]
  },
  {
   "cell_type": "code",
   "execution_count": 11,
   "id": "703eb88c-b959-485a-8fd3-3b35baab71ff",
   "metadata": {},
   "outputs": [
    {
     "name": "stdout",
     "output_type": "stream",
     "text": [
      "[1, 2, 4]\n"
     ]
    }
   ],
   "source": [
    "result = addone(digits)\n",
    "print(result)"
   ]
  },
  {
   "cell_type": "markdown",
   "id": "0be2b512-e6c8-4823-8c12-264b47cc7b35",
   "metadata": {},
   "source": [
    "Given a non-empty array of integers nums, every element appears twice except\n",
    "for one. Find that single one.\n",
    "\n",
    "You must implement a solution with a linear runtime complexity and use only\n",
    "constant extra space.\n",
    "\n",
    "Example 1:\n",
    "Input: nums = [2,2,1]\n",
    "Output: 1\n",
    "\n",
    "\n",
    "ans to find the element we use the XOR operation between two equal number.intialize a variale result to 0 ,after that iterate the array and perform the XOR operation between result and each element in the array .then loops ends the value of result will be the element that appers only once ,return the value of result."
   ]
  },
  {
   "cell_type": "code",
   "execution_count": 5,
   "id": "46c73d6c-943d-49c2-82be-4d2c6311a32f",
   "metadata": {},
   "outputs": [],
   "source": [
    "def Snumber(nums):\n",
    "    result = 0\n",
    "    for num in nums:\n",
    "        result ^= num\n",
    "        \n",
    "    return result\n",
    "\n",
    "nums = [2,2,1]\n"
   ]
  },
  {
   "cell_type": "code",
   "execution_count": 6,
   "id": "a9c2558d-c222-44a3-a6cf-83d74db21926",
   "metadata": {},
   "outputs": [
    {
     "name": "stdout",
     "output_type": "stream",
     "text": [
      "1\n"
     ]
    }
   ],
   "source": [
    "result = Snumber(nums)\n",
    "print(result)"
   ]
  },
  {
   "cell_type": "markdown",
   "id": "2c5b4a1b-1f4a-4b56-887d-32bd1c9a1e0d",
   "metadata": {},
   "source": [
    "You are given an inclusive range [lower, upper] and a sorted unique integer array\n",
    "nums, where all elements are within the inclusive range.\n",
    "\n",
    "A number x is considered missing if x is in the range [lower, upper] and x is not in\n",
    "nums.\n",
    "\n",
    "Return the shortest sorted list of ranges that exactly covers all the missing\n",
    "numbers. That is, no element of nums is included in any of the ranges, and each\n",
    "missing number is covered by one of the ranges.\n",
    "\n",
    "Example 1:\n",
    "Input: nums = [0,1,3,50,75], lower = 0, upper = 99\n",
    "Output: [[2,2],[4,49],[51,74],[76,99]]\n",
    "\n",
    "Explanation: The ranges are:\n",
    "[2,2]\n",
    "[4,49]\n",
    "[51,74]\n",
    "[76,99]\n",
    "\n",
    "\n",
    "Ans- first empty list to store the range and initialize a variable start with lower point,iterate through reach eleemnt num in nums \n",
    "if num = start +1 , increment start by 1since nums\n",
    "if num >= start +1 means missing the range between start and nums-1 append the range[start+1,start+1]to result,update start to num,after loops enf if start is less than upper missing range from start + 1 to upper append the range[start+1,upper] to result\n",
    "return the result list range result"
   ]
  },
  {
   "cell_type": "code",
   "execution_count": 7,
   "id": "ddf930c8-c03e-4e6d-9eab-b9de752d05a8",
   "metadata": {},
   "outputs": [],
   "source": [
    "def findMissingRanges(nums, lower, upper):\n",
    "    result = []\n",
    "    start = lower\n",
    "\n",
    "    for num in nums:\n",
    "        if num == start + 1:\n",
    "            start = num\n",
    "        elif num > start + 1:\n",
    "            if start == num - 1:\n",
    "                result.append([start+1, start+1])\n",
    "            else:\n",
    "                result.append([start+1, num-1])\n",
    "            start = num\n",
    "\n",
    "    if start < upper:\n",
    "        result.append([start+1, upper])\n",
    "\n",
    "    return result\n",
    "\n",
    "\n",
    "nums = [0, 1, 3, 50, 75]\n",
    "lower = 0\n",
    "upper = 99"
   ]
  },
  {
   "cell_type": "code",
   "execution_count": 8,
   "id": "23ae1a06-e2b4-44b2-b9ca-a3a20234ca5f",
   "metadata": {},
   "outputs": [
    {
     "name": "stdout",
     "output_type": "stream",
     "text": [
      "[[2, 2], [4, 49], [51, 74], [76, 99]]\n"
     ]
    }
   ],
   "source": [
    "result = findMissingRanges(nums, lower, upper)\n",
    "print(result)"
   ]
  },
  {
   "cell_type": "markdown",
   "id": "c6769b89-d39f-4201-9580-36273122763d",
   "metadata": {},
   "source": [
    "Given an array of meeting time intervals where intervals[i] = [starti, endi],\n",
    "determine if a person could attend all meetings.\n",
    "\n",
    "Example 1:\n",
    "Input: intervals = [[0,30],[5,10],[15,20]]\n",
    "Output: false\n",
    "\n",
    "ans - sort the intervals based on the start time of each meeting,then iterate the sorted intervals starting form second interval compare the start time of the current interval with the end time of the preivous interval.\n",
    "if the start time of the curretn interval is lesss than or equal to the end time preivous interval ,it means overlap ,return false,if no interval then true"
   ]
  },
  {
   "cell_type": "code",
   "execution_count": 9,
   "id": "3d81ccc2-ef98-4e60-b7d1-0e12d19fee1a",
   "metadata": {},
   "outputs": [],
   "source": [
    "def attendmeet(intervals):\n",
    "    intervals.sort(key=lambda x: x[0])\n",
    "    \n",
    "    for i in range(1,len(intervals)):\n",
    "        if intervals[i][0] < intervals[i-1][1]:\n",
    "            return False\n",
    "        \n",
    "    return True\n",
    "intervals = [[0, 30], [5, 10], [15, 20]]"
   ]
  },
  {
   "cell_type": "code",
   "execution_count": 10,
   "id": "8fec81f6-da7c-4321-88ff-541ace0f16f8",
   "metadata": {},
   "outputs": [
    {
     "name": "stdout",
     "output_type": "stream",
     "text": [
      "False\n"
     ]
    }
   ],
   "source": [
    "result= attendmeet(intervals)\n",
    "print(result)"
   ]
  }
 ],
 "metadata": {
  "kernelspec": {
   "display_name": "Python 3 (ipykernel)",
   "language": "python",
   "name": "python3"
  },
  "language_info": {
   "codemirror_mode": {
    "name": "ipython",
    "version": 3
   },
   "file_extension": ".py",
   "mimetype": "text/x-python",
   "name": "python",
   "nbconvert_exporter": "python",
   "pygments_lexer": "ipython3",
   "version": "3.10.6"
  }
 },
 "nbformat": 4,
 "nbformat_minor": 5
}
