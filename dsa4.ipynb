{
 "cells": [
  {
   "cell_type": "markdown",
   "id": "9f938eef-2f4a-492f-9472-b437c1a16b24",
   "metadata": {},
   "source": [
    "Given three integer arrays arr1, arr2 and arr3 **sorted** in **strictly increasing** order, return a sorted array of **only** the integers that appeared in **all** three arrays.\n",
    "\n",
    "**Example 1:**\n",
    "\n",
    "Input: arr1 = [1,2,3,4,5], arr2 = [1,2,5,7,9], arr3 = [1,3,4,5,8]\n",
    "\n",
    "Output: [1,5]\n",
    "\n",
    "**Explanation:** Only 1 and 5 appeared in the three arrays.\n",
    "\n",
    "ans- take point a1,a2,a3 to the beginning of arr1,arr2,arr3 the take a empty list ,result to store the common element,if arr1[a1],arry2[a2]and arr3[a3] are equal it means that the element present inall three array .append it to result and increment all three pointer ,otherwise find smallest element \n"
   ]
  },
  {
   "cell_type": "code",
   "execution_count": 2,
   "id": "4bb749eb-b0b6-44f1-b160-bd424839fac8",
   "metadata": {},
   "outputs": [],
   "source": [
    "def arraysIntersection(arr1, arr2, arr3):\n",
    "    p1 = p2 = p3 = 0\n",
    "    result = []\n",
    "\n",
    "    while p1 < len(arr1) and p2 < len(arr2) and p3 < len(arr3):\n",
    "        if arr1[p1] == arr2[p2] == arr3[p3]:\n",
    "            result.append(arr1[p1])\n",
    "            p1 += 1\n",
    "            p2 += 1\n",
    "            p3 += 1\n",
    "        else:\n",
    "            min_val = min(arr1[p1], arr2[p2], arr3[p3])\n",
    "            if arr1[p1] == min_val:\n",
    "                p1 += 1\n",
    "            if arr2[p2] == min_val:\n",
    "                p2 += 1\n",
    "            if arr3[p3] == min_val:\n",
    "                p3 += 1\n",
    "\n",
    "    return result\n"
   ]
  },
  {
   "cell_type": "code",
   "execution_count": 3,
   "id": "6bbcf068-2cc0-4a43-8484-738a4be878ce",
   "metadata": {},
   "outputs": [
    {
     "name": "stdout",
     "output_type": "stream",
     "text": [
      "[1, 5]\n"
     ]
    }
   ],
   "source": [
    "arr1 = [1, 2, 3, 4, 5]\n",
    "arr2 = [1, 2, 5, 7, 9]\n",
    "arr3 = [1, 3, 4, 5, 8]\n",
    "result = arraysIntersection(arr1, arr2, arr3)\n",
    "print(result)"
   ]
  },
  {
   "cell_type": "markdown",
   "id": "afae1cce-e11f-41b5-8b14-a61de070d929",
   "metadata": {},
   "source": [
    " Given a 2D integer array matrix, return *the **transpose** of* matrix.\n",
    "\n",
    "The **transpose** of a matrix is the matrix flipped over its main diagonal, switching the matrix's row and column indices.\n",
    "\n",
    "**Example 1:**\n",
    "\n",
    "Input: matrix = [[1,2,3],[4,5,6],[7,8,9]]\n",
    "\n",
    "Output: [[1,4,7],[2,5,8],[3,6,9]]\n",
    "\n",
    "\n",
    "ans take a empty 2D list ,transpose to store the transpose of the matrix,iterate through the columns of matrix.create a new row list ,row to store the element of the eleement of the current columns .append the elements the current roe and columns to row ,append row to transpose\n",
    "return transpose\n"
   ]
  },
  {
   "cell_type": "code",
   "execution_count": 4,
   "id": "bcb195d1-a4b6-467c-be75-3eca8e0baa11",
   "metadata": {},
   "outputs": [],
   "source": [
    "def transpose(matrix):\n",
    "    rows = len(matrix)\n",
    "    cols = len(matrix[0])\n",
    "\n",
    "    transpose = []\n",
    "    for j in range(cols):\n",
    "        row = []\n",
    "        for i in range(rows):\n",
    "            row.append(matrix[i][j])\n",
    "        transpose.append(row)\n",
    "\n",
    "    return transpose\n",
    "matrix = [[1, 2, 3], [4, 5, 6], [7, 8, 9]]"
   ]
  },
  {
   "cell_type": "code",
   "execution_count": 5,
   "id": "c4fa6f68-f2fb-434e-b7b9-d4b24d5573bf",
   "metadata": {},
   "outputs": [
    {
     "name": "stdout",
     "output_type": "stream",
     "text": [
      "[[1, 4, 7], [2, 5, 8], [3, 6, 9]]\n"
     ]
    }
   ],
   "source": [
    "result = transpose(matrix)\n",
    "print(result)"
   ]
  },
  {
   "cell_type": "markdown",
   "id": "e3470253-d562-49cd-8a91-37ffa5a58ffb",
   "metadata": {},
   "source": [
    "Given an integer array nums of 2n integers, group these integers into n pairs (a1, b1), (a2, b2), ..., (an, bn) such that the sum of min(ai, bi) for all i is **maximized**. Return *the maximized sum*.\n",
    "\n",
    "**Example 1:**\n",
    "\n",
    "Input: nums = [1,4,3,2]\n",
    "\n",
    "Output: 4\n",
    "\n",
    "**Explanation:** All possible pairings (ignoring the ordering of elements) are:\n",
    "\n",
    "1. (1, 4), (2, 3) -> min(1, 4) + min(2, 3) = 1 + 2 = 3\n",
    "\n",
    "2. (1, 3), (2, 4) -> min(1, 3) + min(2, 4) = 1 + 2 = 3\n",
    "\n",
    "3. (1, 2), (3, 4) -> min(1, 2) + min(3, 4) = 1 + 3 = 4\n",
    "\n",
    "So the maximum possible sum is 4.\n",
    "\n",
    "ans- sort the array nums in ascending order then initialize a varilable max_sum to 0,iterate over the array nums starting from index 0 with a step of 2,then add the elements at the current index to max_sum,retun max_sum\n"
   ]
  },
  {
   "cell_type": "code",
   "execution_count": 6,
   "id": "a992b48e-6309-4672-95d2-ceb798fc68cd",
   "metadata": {},
   "outputs": [],
   "source": [
    "def arrayPairSum(nums):\n",
    "    nums.sort()\n",
    "    max_sum = 0\n",
    "    for i in range(0, len(nums), 2):\n",
    "        max_sum += nums[i]\n",
    "    return max_sum\n"
   ]
  },
  {
   "cell_type": "code",
   "execution_count": 7,
   "id": "1ac177d8-88a5-4a99-ae9b-4581744adc59",
   "metadata": {},
   "outputs": [
    {
     "name": "stdout",
     "output_type": "stream",
     "text": [
      "4\n"
     ]
    }
   ],
   "source": [
    "nums = [1, 4, 3, 2]\n",
    "result = arrayPairSum(nums)\n",
    "print(result)"
   ]
  },
  {
   "cell_type": "markdown",
   "id": "97e0ed30-ef7d-4a3f-9794-32c7dcf4cb6a",
   "metadata": {},
   "source": [
    " You have n coins and you want to build a staircase with these coins. The staircase consists of k rows where the ith row has exactly i coins. The last row of the staircase **may be** incomplete.\n",
    "\n",
    "Given the integer n, return *the number of **complete rows** of the staircase you will build*.\n",
    "\n",
    "**Example 1:**\n",
    "\n",
    "[]()\n",
    "\n",
    "**Input:** n = 5\n",
    "\n",
    "**Output:** 2\n",
    "\n",
    "**Explanation:** Because the 3rd row is incomplete, we return 2.\n",
    "\n",
    "\n",
    "ans initialize two varilabe row and coins to 0 then iterate while coins is less than or w=equal to n ,increment row by 1\n",
    "               increment coins by row\n",
    "               return row - 1"
   ]
  },
  {
   "cell_type": "code",
   "execution_count": 8,
   "id": "87d5cee7-96c5-4246-8c87-245303e51705",
   "metadata": {},
   "outputs": [],
   "source": [
    "def arrangeCoins(n):\n",
    "    row = 0\n",
    "    coins = 0\n",
    "    while coins <= n:\n",
    "        row += 1\n",
    "        coins += row\n",
    "    return row - 1\n"
   ]
  },
  {
   "cell_type": "code",
   "execution_count": 9,
   "id": "f58c5cc5-63d8-431e-84dc-13708e3e4a7e",
   "metadata": {},
   "outputs": [
    {
     "name": "stdout",
     "output_type": "stream",
     "text": [
      "2\n"
     ]
    }
   ],
   "source": [
    "n = 5\n",
    "result = arrangeCoins(n)\n",
    "print(result)"
   ]
  },
  {
   "cell_type": "markdown",
   "id": "bc89df4f-ce5a-4e80-b057-7a50a276626f",
   "metadata": {},
   "source": [
    " Given an integer array nums sorted in **non-decreasing** order, return *an array of **the squares of each number** sorted in non-decreasing order*.\n",
    "\n",
    "**Example 1:**\n",
    "\n",
    "Input: nums = [-4,-1,0,3,10]\n",
    "\n",
    "Output: [0,1,9,16,100]\n",
    "\n",
    "**Explanation:** After squaring, the array becomes [16,1,0,9,100].\n",
    "After sorting, it becomes [0,1,9,16,100]\n",
    "\n",
    "\n",
    "ans - first take a empty list called squares to store the squared values .iterate each element num in nums,then calculate the square list in non decreasing order ,return the sorted squares list "
   ]
  },
  {
   "cell_type": "code",
   "execution_count": 11,
   "id": "c59a59f1-247c-43be-a293-3701e265374a",
   "metadata": {},
   "outputs": [],
   "source": [
    "def sortedSquares(nums):\n",
    "    squares = []\n",
    "    for num in nums:\n",
    "        squares.append(num * num)\n",
    "    squares.sort()\n",
    "    return squares\n"
   ]
  },
  {
   "cell_type": "code",
   "execution_count": 12,
   "id": "35bb54e4-d434-4580-ab54-bb326b399edf",
   "metadata": {},
   "outputs": [
    {
     "name": "stdout",
     "output_type": "stream",
     "text": [
      "[0, 1, 9, 16, 100]\n"
     ]
    }
   ],
   "source": [
    "nums = [-4, -1, 0, 3, 10]\n",
    "result = sortedSquares(nums)\n",
    "print(result) "
   ]
  },
  {
   "cell_type": "markdown",
   "id": "8d3c97dd-2f5e-4fc6-a347-0bfbe3dfd923",
   "metadata": {},
   "source": [
    "<aside>\n",
    "💡 **Question 7**\n",
    "You are given an m x n matrix M initialized with all 0's and an array of operations ops, where ops[i] = [ai, bi] means M[x][y] should be incremented by one for all 0 <= x < ai and 0 <= y < bi.\n",
    "\n",
    "Count and return *the number of maximum integers in the matrix after performing all the operations*\n",
    "\n",
    "**Example 1:**\n",
    "\n",
    "![q4.jpg](https://s3-us-west-2.amazonaws.com/secure.notion-static.com/4d0890d0-7bc7-4f59-be8e-352d9f3c1c52/q4.jpg)\n",
    "\n",
    "**Input:** m = 3, n = 3, ops = [[2,2],[3,3]]\n",
    "\n",
    "**Output:** 4\n",
    "\n",
    "**Explanation:** The maximum integer in M is 2, and there are four of it in M. So return 4.\n",
    "\n",
    "</aside>\n",
    "\n",
    "\n",
    "ans - initialize row and col to a,b then iterate over each operation in ops \n",
    "  update row as minimum row and ai \n",
    "  update col as minmum of col and bi"
   ]
  },
  {
   "cell_type": "code",
   "execution_count": 19,
   "id": "5bec0065-8199-41aa-9430-59602fc60652",
   "metadata": {},
   "outputs": [],
   "source": [
    "def maxCount(m, n, ops):\n",
    "    Row = m\n",
    "    Col = n\n",
    "    for op in ops:\n",
    "        Row = min(Row, op[0])\n",
    "        Col = min(Col, op[1])\n",
    "    return Row * Col\n",
    "\n",
    "m=3\n",
    "n=3\n",
    "ops =[[2,2],[3,3]]\n"
   ]
  },
  {
   "cell_type": "code",
   "execution_count": 20,
   "id": "f4102314-344a-4481-8f26-18caa22ef74a",
   "metadata": {},
   "outputs": [
    {
     "name": "stdout",
     "output_type": "stream",
     "text": [
      "4\n"
     ]
    }
   ],
   "source": [
    "result = maxCount(m,n,ops)\n",
    "print(result)"
   ]
  },
  {
   "cell_type": "markdown",
   "id": "55e01f60-d87e-430f-9be6-f1a82675e8d4",
   "metadata": {},
   "source": [
    "<aside>\n",
    "💡 **Question 8**\n",
    "\n",
    "Given the array nums consisting of 2n elements in the form [x1,x2,...,xn,y1,y2,...,yn].\n",
    "\n",
    "*Return the array in the form* [x1,y1,x2,y2,...,xn,yn].\n",
    "\n",
    "**Example 1:**\n",
    "\n",
    "**Input:** nums = [2,5,1,3,4,7], n = 3\n",
    "\n",
    "**Output:** [2,3,5,4,1,7]\n",
    "\n",
    "**Explanation:** Since x1=2, x2=5, x3=1, y1=3, y2=4, y3=7 then the answer is [2,3,5,4,1,7].\n",
    "\n",
    "</aside>\n",
    "\n",
    "create a empty result then iterate from 0 to n\n",
    "append num[i] and append nums[i+n] then return result "
   ]
  },
  {
   "cell_type": "code",
   "execution_count": 21,
   "id": "b272a1e3-217e-42cc-a0ef-07d584b44d34",
   "metadata": {},
   "outputs": [],
   "source": [
    "def shuffle(nums, n):\n",
    "    result = []\n",
    "    for i in range(n):\n",
    "        result.append(nums[i])\n",
    "        result.append(nums[i + n])\n",
    "    return result\n"
   ]
  },
  {
   "cell_type": "code",
   "execution_count": 22,
   "id": "fde65bb5-978d-4828-9c0e-2d1718ae672b",
   "metadata": {},
   "outputs": [
    {
     "name": "stdout",
     "output_type": "stream",
     "text": [
      "[2, 3, 5, 4, 1, 7]\n"
     ]
    }
   ],
   "source": [
    "nums = [2, 5, 1, 3, 4, 7]\n",
    "n = 3\n",
    "result = shuffle(nums, n)\n",
    "print(result)"
   ]
  }
 ],
 "metadata": {
  "kernelspec": {
   "display_name": "Python 3 (ipykernel)",
   "language": "python",
   "name": "python3"
  },
  "language_info": {
   "codemirror_mode": {
    "name": "ipython",
    "version": 3
   },
   "file_extension": ".py",
   "mimetype": "text/x-python",
   "name": "python",
   "nbconvert_exporter": "python",
   "pygments_lexer": "ipython3",
   "version": "3.10.6"
  }
 },
 "nbformat": 4,
 "nbformat_minor": 5
}
